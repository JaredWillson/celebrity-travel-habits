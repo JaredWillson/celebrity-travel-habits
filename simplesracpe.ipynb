{
 "cells": [
  {
   "cell_type": "code",
   "execution_count": null,
   "metadata": {},
   "outputs": [],
   "source": [
    "#import dependencies\n",
    "from splinter import Browser\n",
    "from bs4 import BeautifulSoup\n"
   ]
  },
  {
   "cell_type": "code",
   "execution_count": null,
   "metadata": {},
   "outputs": [],
   "source": [
    "#set up the browser\n",
    "browser = Browser('chrome')\n",
    "url = 'https://celebrityprivatejettracker.com/#gref'\n",
    "\n",
    "#create the session\n",
    "browser.visit(url)"
   ]
  },
  {
   "cell_type": "code",
   "execution_count": null,
   "metadata": {},
   "outputs": [],
   "source": [
    "#intiate html session\n",
    "html = browser.html\n",
    "soup = BeautifulSoup(html, 'html.parser')"
   ]
  },
  {
   "cell_type": "code",
   "execution_count": null,
   "metadata": {},
   "outputs": [],
   "source": [
    "#scraping the table (class is entry-content)\n",
    "table_info = soup.find_all(class_='entry-content')\n",
    "table_info\n",
    "\n",
    "table_list =[]\n",
    "\n",
    "for plane in table_info:\n",
    "    table_list.append(plane.a['href'])\n",
    "    \n",
    "table_list"
   ]
  },
  {
   "cell_type": "code",
   "execution_count": null,
   "metadata": {},
   "outputs": [],
   "source": [
    "\n",
    "#automate clicking/finding the links\n",
    "#figure out how to automate clicking the link of the aiirplanes instead of clicking a next button\n",
    "#maybe find the class of the links or smt\n",
    "\n",
    "browser.links.find_by_partial_text('-n').click()\n"
   ]
  },
  {
   "cell_type": "code",
   "execution_count": null,
   "metadata": {},
   "outputs": [],
   "source": [
    "\n",
    "#start the loop of grabbing the info from the pages\n",
    "for x in range(1, 4):\n",
    "    html = browser.html\n",
    "    soup = BeautifulSoup(html, 'html.parser')\n",
    "    table_info = soup.find_all(class_ = 'image_container')\n",
    "    print('page:', x, '----------')\n",
    "    for plane in table_info:\n",
    "        print(plane.a['href'])\n",
    "    browser.links.find_by_partial_text('next').click()"
   ]
  },
  {
   "cell_type": "code",
   "execution_count": null,
   "metadata": {},
   "outputs": [],
   "source": [
    "\n"
   ]
  },
  {
   "cell_type": "code",
   "execution_count": null,
   "metadata": {},
   "outputs": [],
   "source": [
    "#end browser session\n",
    "browser.quit()"
   ]
  }
 ],
 "metadata": {
  "language_info": {
   "name": "python"
  }
 },
 "nbformat": 4,
 "nbformat_minor": 2
}
